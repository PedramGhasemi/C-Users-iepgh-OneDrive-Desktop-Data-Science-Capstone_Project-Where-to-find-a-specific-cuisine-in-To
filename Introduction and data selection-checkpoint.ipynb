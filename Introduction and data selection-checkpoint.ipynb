{
 "cells": [
  {
   "cell_type": "markdown",
   "metadata": {},
   "source": [
    "# Where to find a specific cuisine in Toronto"
   ]
  },
  {
   "cell_type": "markdown",
   "metadata": {},
   "source": [
    "### Introduction/Business Problem section"
   ]
  },
  {
   "cell_type": "markdown",
   "metadata": {},
   "source": [
    "Toronto is the most popular city of Canada, with a great number of tourists visiting the city every year. As a tourist, one of the most important issues while visiting a city would be the eating places, and the types of food they serve. Given the fact that the accessibility of restaurants could play a role in choosing the location of stay, I decided to implemet a code to cluster different neighborhoods of Toronto in term of the most common type of restaurants nearby. Therefore, by using the results of the present project, tourists would be able to understand the most common types of restaurants in different neighborhoods, and decide where to reside, based on their eating interests and preferences."
   ]
  },
  {
   "cell_type": "markdown",
   "metadata": {},
   "source": [
    "### Data section"
   ]
  },
  {
   "cell_type": "markdown",
   "metadata": {},
   "source": [
    "As the data resources we will use Wikipedia website in order to obtain the data regarding the neighborhoods of Toronto city. The link is https://en.wikipedia.org/wiki/List_of_postal_codes_of_Canada:_M\n",
    "Furthermore, we will retrieve  the data regarding the location and other information of restaurants in the city from [Foursquare.com](www.foursquare.com)"
   ]
  },
  {
   "cell_type": "raw",
   "metadata": {},
   "source": []
  }
 ],
 "metadata": {
  "kernelspec": {
   "display_name": "Python 3",
   "language": "python",
   "name": "python3"
  },
  "language_info": {
   "codemirror_mode": {
    "name": "ipython",
    "version": 3
   },
   "file_extension": ".py",
   "mimetype": "text/x-python",
   "name": "python",
   "nbconvert_exporter": "python",
   "pygments_lexer": "ipython3",
   "version": "3.7.6"
  }
 },
 "nbformat": 4,
 "nbformat_minor": 4
}
